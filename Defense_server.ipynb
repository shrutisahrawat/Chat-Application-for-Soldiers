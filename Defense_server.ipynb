{
 "cells": [
  {
   "cell_type": "code",
   "execution_count": null,
   "id": "4afdac76-2007-4a66-b6b1-228ebae37a17",
   "metadata": {},
   "outputs": [
    {
     "name": "stdout",
     "output_type": "stream",
     "text": [
      "Server encryption key (share this with clients): PxMnP_y0AQfmKzj1EzGtznLIQMwXG5pG90P9MQRW-pc=\n",
      "Server listening on port 9998...\n",
      "Accepted connection from ('127.0.0.1', 50390)\n",
      "Resources are normal. (Clients: 1, High-Priority Messages: 0)\n",
      "Received: mission\n",
      "Resources are normal. (Clients: 1, High-Priority Messages: 1)\n"
     ]
    }
   ],
   "source": [
    "import socket\n",
    "import threading\n",
    "from cryptography.fernet import Fernet\n",
    "import time\n",
    "\n",
    "# Generate a key for encryption/decryption\n",
    "key = Fernet.generate_key()\n",
    "cipher = Fernet(key)\n",
    "print(f\"Server encryption key (share this with clients): {key.decode()}\")\n",
    "\n",
    "# Global variables for tracking connected clients and high-priority messages\n",
    "# CHANGE: Variables for tracking client connections and high-priority messages\n",
    "connected_clients = 0\n",
    "high_priority_message_count = 0\n",
    "\n",
    "# Thresholds for scaling\n",
    "# CHANGE: Thresholds to trigger resource scaling\n",
    "client_threshold = 3\n",
    "high_priority_threshold = 2  # If more than 2 high-priority messages (like 'mission' or 'alert') come in\n",
    "\n",
    "# Function to simulate AI-based cloud scaling logic\n",
    "# CHANGE: Function that scales resources based on client count or high-priority messages\n",
    "def scale_resources():\n",
    "    global connected_clients, high_priority_message_count\n",
    "    \n",
    "    if connected_clients > client_threshold or high_priority_message_count >= high_priority_threshold:\n",
    "        print(f\"Scaling UP resources... (Clients: {connected_clients}, High-Priority Messages: {high_priority_message_count})\")\n",
    "    else:\n",
    "        print(f\"Resources are normal. (Clients: {connected_clients}, High-Priority Messages: {high_priority_message_count})\")\n",
    "\n",
    "# Handling each client connection\n",
    "def handle_client(client_socket):\n",
    "    global connected_clients, high_priority_message_count\n",
    "    # CHANGE: Increment connected clients when a new client connects\n",
    "    connected_clients += 1\n",
    "    scale_resources()  # Adjust resources when a client connects\n",
    "\n",
    "    while True:\n",
    "        try:\n",
    "            encrypted_message = client_socket.recv(1024)\n",
    "            if not encrypted_message:\n",
    "                break\n",
    "\n",
    "            # Decrypt the message\n",
    "            decrypted_message = cipher.decrypt(encrypted_message).decode()\n",
    "            print(f\"Received: {decrypted_message}\")\n",
    "\n",
    "            # START OF CHANGES: Define defense communication responses based on the message\n",
    "            if decrypted_message.lower() == \"mission\":\n",
    "                response = \"Mission Update: Proceed with objective Alpha-3. Await further instructions.\"\n",
    "                high_priority_message_count += 1  # CHANGE: Increment high-priority message count\n",
    "            elif decrypted_message.lower() == \"intel\":\n",
    "                response = \"Intel Report: Enemy movement detected at coordinates [XX,YY]. Prepare for engagement.\"\n",
    "            elif decrypted_message.lower() == \"status\":\n",
    "                response = \"Unit Status: All systems operational. Awaiting new orders.\"\n",
    "            elif decrypted_message.lower() == \"alert\":\n",
    "                response = \"Crisis Alert: Natural disaster detected in zone Bravo. Immediate evacuation required.\"\n",
    "                high_priority_message_count += 1  # CHANGE: Increment high-priority message count\n",
    "            else:\n",
    "                response = \"Invalid command. Awaiting valid instructions.\"\n",
    "\n",
    "            # Encrypt the response before sending\n",
    "            encrypted_response = cipher.encrypt(response.encode())\n",
    "            client_socket.sendall(encrypted_response)\n",
    "\n",
    "            # After each message, check if scaling is needed\n",
    "            # CHANGE: Call scale_resources() to adjust resources after message processing\n",
    "            scale_resources()\n",
    "\n",
    "        except Exception as e:\n",
    "            print(\"Error:\", e)\n",
    "            break\n",
    "\n",
    "    # CHANGE: Decrement connected clients when a client disconnects\n",
    "    connected_clients -= 1\n",
    "    scale_resources()  # Adjust resources when a client disconnects\n",
    "    client_socket.close()\n",
    "\n",
    "# Start the server\n",
    "def start_server():\n",
    "    server = socket.socket(socket.AF_INET, socket.SOCK_STREAM)\n",
    "    server.bind((\"0.0.0.0\", 9998))\n",
    "    server.listen(5)\n",
    "    print(\"Server listening on port 9998...\")\n",
    "\n",
    "    while True:\n",
    "        client_socket, addr = server.accept()\n",
    "        print(f\"Accepted connection from {addr}\")\n",
    "        client_handler = threading.Thread(target=handle_client, args=(client_socket,))\n",
    "        client_handler.start()\n",
    "\n",
    "if __name__ == \"__main__\":\n",
    "    start_server()\n"
   ]
  },
  {
   "cell_type": "code",
   "execution_count": null,
   "id": "9dbec29b-1e2e-4a2c-8dae-811a7a12a915",
   "metadata": {},
   "outputs": [],
   "source": [
    "import numpy as np\n",
    "import pandas as pd\n",
    "import matplotlib.pyplot as plt"
   ]
  },
  {
   "cell_type": "code",
   "execution_count": null,
   "id": "684803da-cd97-4f60-a0b6-88e69935a488",
   "metadata": {},
   "outputs": [],
   "source": [
    "defense=pd.read_csv(\"defense_dataset/encrypted_defense_communication_traffic.csv\")\n"
   ]
  },
  {
   "cell_type": "code",
   "execution_count": null,
   "id": "3ed24222-5395-4135-8cd0-9ad6039a2828",
   "metadata": {},
   "outputs": [],
   "source": [
    "defense"
   ]
  },
  {
   "cell_type": "code",
   "execution_count": null,
   "id": "512bad92-cb06-49c0-b74f-3f39be475421",
   "metadata": {},
   "outputs": [],
   "source": []
  }
 ],
 "metadata": {
  "kernelspec": {
   "display_name": "Python 3 (ipykernel)",
   "language": "python",
   "name": "python3"
  },
  "language_info": {
   "codemirror_mode": {
    "name": "ipython",
    "version": 3
   },
   "file_extension": ".py",
   "mimetype": "text/x-python",
   "name": "python",
   "nbconvert_exporter": "python",
   "pygments_lexer": "ipython3",
   "version": "3.12.4"
  }
 },
 "nbformat": 4,
 "nbformat_minor": 5
}
